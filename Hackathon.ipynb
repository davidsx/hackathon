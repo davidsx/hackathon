{
 "cells": [
  {
   "cell_type": "code",
   "execution_count": 5,
   "metadata": {},
   "outputs": [],
   "source": [
    "import scattertext as st\n",
    "import re, io\n",
    "from pprint import pprint\n",
    "import pandas as pd\n",
    "import numpy as np\n",
    "from scipy.stats import rankdata, hmean, norm\n",
    "import spacy\n",
    "import os, pkgutil, json, urllib\n",
    "from urllib.request import urlopen\n",
    "from IPython.display import IFrame\n",
    "from IPython.core.display import display, HTML\n",
    "from scattertext import CorpusFromPandas, produce_scattertext_explorer"
   ]
  },
  {
   "cell_type": "code",
   "execution_count": 16,
   "metadata": {},
   "outputs": [
    {
     "data": {
      "text/html": [
       "<style>.container { width:98% !important; }</style>"
      ],
      "text/plain": [
       "<IPython.core.display.HTML object>"
      ]
     },
     "metadata": {},
     "output_type": "display_data"
    }
   ],
   "source": [
    "display(HTML(\"<style>.container { width:98% !important; }</style>\"))"
   ]
  },
  {
   "cell_type": "code",
   "execution_count": 6,
   "metadata": {},
   "outputs": [],
   "source": [
    "data = pd.read_excel('python_output/data.xlsx')"
   ]
  },
  {
   "cell_type": "code",
   "execution_count": 7,
   "metadata": {},
   "outputs": [
    {
     "data": {
      "text/html": [
       "<div>\n",
       "<style scoped>\n",
       "    .dataframe tbody tr th:only-of-type {\n",
       "        vertical-align: middle;\n",
       "    }\n",
       "\n",
       "    .dataframe tbody tr th {\n",
       "        vertical-align: top;\n",
       "    }\n",
       "\n",
       "    .dataframe thead th {\n",
       "        text-align: right;\n",
       "    }\n",
       "</style>\n",
       "<table border=\"1\" class=\"dataframe\">\n",
       "  <thead>\n",
       "    <tr style=\"text-align: right;\">\n",
       "      <th></th>\n",
       "      <th>Title</th>\n",
       "      <th>Tag</th>\n",
       "      <th>Time</th>\n",
       "      <th>Text</th>\n",
       "    </tr>\n",
       "  </thead>\n",
       "  <tbody>\n",
       "    <tr>\n",
       "      <th>0</th>\n",
       "      <td>台灣推出迪士尼聯乘「史迪仔」彩妝！小籠包、滷肉飯趣味包裝！「湖水冰籃色」暑意全消！</td>\n",
       "      <td>Make-up</td>\n",
       "      <td>2020.06.24</td>\n",
       "      <td>迪士尼動畫《扮嘢小魔星》可以說是陪伴了不少人成長，而史迪仔（Stitch）更是人氣角色之一，...</td>\n",
       "    </tr>\n",
       "    <tr>\n",
       "      <th>1</th>\n",
       "      <td>台灣推出迪士尼聯乘「史迪仔」彩妝！小籠包、滷肉飯趣味包裝！「湖水冰籃色」暑意全消！</td>\n",
       "      <td>Make-up</td>\n",
       "      <td>2020.06.24</td>\n",
       "      <td>《史迪仔系列》 台灣好呷唇蜜 共2色</td>\n",
       "    </tr>\n",
       "    <tr>\n",
       "      <th>2</th>\n",
       "      <td>台灣推出迪士尼聯乘「史迪仔」彩妝！小籠包、滷肉飯趣味包裝！「湖水冰籃色」暑意全消！</td>\n",
       "      <td>Make-up</td>\n",
       "      <td>2020.06.24</td>\n",
       "      <td>（單支售價：台幣 $699）/（2支組合裝售價：台幣 $1,380）</td>\n",
       "    </tr>\n",
       "    <tr>\n",
       "      <th>3</th>\n",
       "      <td>台灣推出迪士尼聯乘「史迪仔」彩妝！小籠包、滷肉飯趣味包裝！「湖水冰籃色」暑意全消！</td>\n",
       "      <td>Make-up</td>\n",
       "      <td>2020.06.24</td>\n",
       "      <td>唇釉分別有#橙香蜜茶和#豆香玫瑰兩種顏色，橙調能提亮膚色，給予人活潑有好氣色的感覺，而玫瑰色...</td>\n",
       "    </tr>\n",
       "    <tr>\n",
       "      <th>4</th>\n",
       "      <td>【氣墊粉底推薦】韓國節目實測5款氣墊粉底！第1位遮瑕/持妝度最出色！香港有售！</td>\n",
       "      <td>Make-up</td>\n",
       "      <td>2020.06.23</td>\n",
       "      <td>近年氣墊粉底不斷升級改良，妝效可說是娉美粉底液，不管你是追求高遮瑕，還是持妝度，一款優秀的氣...</td>\n",
       "    </tr>\n",
       "  </tbody>\n",
       "</table>\n",
       "</div>"
      ],
      "text/plain": [
       "                                       Title      Tag        Time  \\\n",
       "0  台灣推出迪士尼聯乘「史迪仔」彩妝！小籠包、滷肉飯趣味包裝！「湖水冰籃色」暑意全消！  Make-up  2020.06.24   \n",
       "1  台灣推出迪士尼聯乘「史迪仔」彩妝！小籠包、滷肉飯趣味包裝！「湖水冰籃色」暑意全消！  Make-up  2020.06.24   \n",
       "2  台灣推出迪士尼聯乘「史迪仔」彩妝！小籠包、滷肉飯趣味包裝！「湖水冰籃色」暑意全消！  Make-up  2020.06.24   \n",
       "3  台灣推出迪士尼聯乘「史迪仔」彩妝！小籠包、滷肉飯趣味包裝！「湖水冰籃色」暑意全消！  Make-up  2020.06.24   \n",
       "4    【氣墊粉底推薦】韓國節目實測5款氣墊粉底！第1位遮瑕/持妝度最出色！香港有售！  Make-up  2020.06.23   \n",
       "\n",
       "                                                Text  \n",
       "0  迪士尼動畫《扮嘢小魔星》可以說是陪伴了不少人成長，而史迪仔（Stitch）更是人氣角色之一，...  \n",
       "1                                 《史迪仔系列》 台灣好呷唇蜜 共2色  \n",
       "2                 （單支售價：台幣 $699）/（2支組合裝售價：台幣 $1,380）  \n",
       "3  唇釉分別有#橙香蜜茶和#豆香玫瑰兩種顏色，橙調能提亮膚色，給予人活潑有好氣色的感覺，而玫瑰色...  \n",
       "4  近年氣墊粉底不斷升級改良，妝效可說是娉美粉底液，不管你是追求高遮瑕，還是持妝度，一款優秀的氣...  "
      ]
     },
     "execution_count": 7,
     "metadata": {},
     "output_type": "execute_result"
    }
   ],
   "source": [
    "data.head()"
   ]
  },
  {
   "cell_type": "code",
   "execution_count": 8,
   "metadata": {},
   "outputs": [
    {
     "name": "stderr",
     "output_type": "stream",
     "text": [
      "Building prefix dict from the default dictionary ...\n",
      "Dumping model to file cache /var/folders/qt/r49rhxw54t350tf7mx0th4pc0000gn/T/jieba.cache\n",
      "Loading model cost 1.728 seconds.\n",
      "Prefix dict has been built successfully.\n"
     ]
    }
   ],
   "source": [
    "import spacy\n",
    "nlp = spacy.load('zh_core_web_sm')"
   ]
  },
  {
   "cell_type": "code",
   "execution_count": 10,
   "metadata": {},
   "outputs": [],
   "source": [
    "data['parsed'] = data.Text.apply(nlp)"
   ]
  },
  {
   "cell_type": "code",
   "execution_count": 11,
   "metadata": {},
   "outputs": [
    {
     "data": {
      "text/html": [
       "<div>\n",
       "<style scoped>\n",
       "    .dataframe tbody tr th:only-of-type {\n",
       "        vertical-align: middle;\n",
       "    }\n",
       "\n",
       "    .dataframe tbody tr th {\n",
       "        vertical-align: top;\n",
       "    }\n",
       "\n",
       "    .dataframe thead th {\n",
       "        text-align: right;\n",
       "    }\n",
       "</style>\n",
       "<table border=\"1\" class=\"dataframe\">\n",
       "  <thead>\n",
       "    <tr style=\"text-align: right;\">\n",
       "      <th></th>\n",
       "      <th>Title</th>\n",
       "      <th>Tag</th>\n",
       "      <th>Time</th>\n",
       "      <th>Text</th>\n",
       "      <th>parsed</th>\n",
       "    </tr>\n",
       "  </thead>\n",
       "  <tbody>\n",
       "    <tr>\n",
       "      <th>0</th>\n",
       "      <td>台灣推出迪士尼聯乘「史迪仔」彩妝！小籠包、滷肉飯趣味包裝！「湖水冰籃色」暑意全消！</td>\n",
       "      <td>Make-up</td>\n",
       "      <td>2020.06.24</td>\n",
       "      <td>迪士尼動畫《扮嘢小魔星》可以說是陪伴了不少人成長，而史迪仔（Stitch）更是人氣角色之一，...</td>\n",
       "      <td>(迪士尼, 動畫, 《, 扮嘢, 小, 魔星, 》, 可以, 說是, 陪伴, 了, 不少, ...</td>\n",
       "    </tr>\n",
       "    <tr>\n",
       "      <th>1</th>\n",
       "      <td>台灣推出迪士尼聯乘「史迪仔」彩妝！小籠包、滷肉飯趣味包裝！「湖水冰籃色」暑意全消！</td>\n",
       "      <td>Make-up</td>\n",
       "      <td>2020.06.24</td>\n",
       "      <td>《史迪仔系列》 台灣好呷唇蜜 共2色</td>\n",
       "      <td>(《, 史迪仔, 系列, 》, 台灣, 好呷, 唇蜜, 共, 2, 色)</td>\n",
       "    </tr>\n",
       "    <tr>\n",
       "      <th>2</th>\n",
       "      <td>台灣推出迪士尼聯乘「史迪仔」彩妝！小籠包、滷肉飯趣味包裝！「湖水冰籃色」暑意全消！</td>\n",
       "      <td>Make-up</td>\n",
       "      <td>2020.06.24</td>\n",
       "      <td>（單支售價：台幣 $699）/（2支組合裝售價：台幣 $1,380）</td>\n",
       "      <td>(（, 單, 支售, 價, ：, 台幣, $, 699, ）, /, （, 2, 支, 組合...</td>\n",
       "    </tr>\n",
       "    <tr>\n",
       "      <th>3</th>\n",
       "      <td>台灣推出迪士尼聯乘「史迪仔」彩妝！小籠包、滷肉飯趣味包裝！「湖水冰籃色」暑意全消！</td>\n",
       "      <td>Make-up</td>\n",
       "      <td>2020.06.24</td>\n",
       "      <td>唇釉分別有#橙香蜜茶和#豆香玫瑰兩種顏色，橙調能提亮膚色，給予人活潑有好氣色的感覺，而玫瑰色...</td>\n",
       "      <td>(唇釉, 分別, 有, #, 橙香, 蜜茶, 和, #, 豆香, 玫瑰, 兩種, 顏色, ，...</td>\n",
       "    </tr>\n",
       "    <tr>\n",
       "      <th>4</th>\n",
       "      <td>【氣墊粉底推薦】韓國節目實測5款氣墊粉底！第1位遮瑕/持妝度最出色！香港有售！</td>\n",
       "      <td>Make-up</td>\n",
       "      <td>2020.06.23</td>\n",
       "      <td>近年氣墊粉底不斷升級改良，妝效可說是娉美粉底液，不管你是追求高遮瑕，還是持妝度，一款優秀的氣...</td>\n",
       "      <td>(近年, 氣墊, 粉底, 不, 斷, 升級, 改良, ，, 妝效, 可說, 是, 娉美粉, ...</td>\n",
       "    </tr>\n",
       "  </tbody>\n",
       "</table>\n",
       "</div>"
      ],
      "text/plain": [
       "                                       Title      Tag        Time  \\\n",
       "0  台灣推出迪士尼聯乘「史迪仔」彩妝！小籠包、滷肉飯趣味包裝！「湖水冰籃色」暑意全消！  Make-up  2020.06.24   \n",
       "1  台灣推出迪士尼聯乘「史迪仔」彩妝！小籠包、滷肉飯趣味包裝！「湖水冰籃色」暑意全消！  Make-up  2020.06.24   \n",
       "2  台灣推出迪士尼聯乘「史迪仔」彩妝！小籠包、滷肉飯趣味包裝！「湖水冰籃色」暑意全消！  Make-up  2020.06.24   \n",
       "3  台灣推出迪士尼聯乘「史迪仔」彩妝！小籠包、滷肉飯趣味包裝！「湖水冰籃色」暑意全消！  Make-up  2020.06.24   \n",
       "4    【氣墊粉底推薦】韓國節目實測5款氣墊粉底！第1位遮瑕/持妝度最出色！香港有售！  Make-up  2020.06.23   \n",
       "\n",
       "                                                Text  \\\n",
       "0  迪士尼動畫《扮嘢小魔星》可以說是陪伴了不少人成長，而史迪仔（Stitch）更是人氣角色之一，...   \n",
       "1                                 《史迪仔系列》 台灣好呷唇蜜 共2色   \n",
       "2                 （單支售價：台幣 $699）/（2支組合裝售價：台幣 $1,380）   \n",
       "3  唇釉分別有#橙香蜜茶和#豆香玫瑰兩種顏色，橙調能提亮膚色，給予人活潑有好氣色的感覺，而玫瑰色...   \n",
       "4  近年氣墊粉底不斷升級改良，妝效可說是娉美粉底液，不管你是追求高遮瑕，還是持妝度，一款優秀的氣...   \n",
       "\n",
       "                                              parsed  \n",
       "0  (迪士尼, 動畫, 《, 扮嘢, 小, 魔星, 》, 可以, 說是, 陪伴, 了, 不少, ...  \n",
       "1               (《, 史迪仔, 系列, 》, 台灣, 好呷, 唇蜜, 共, 2, 色)  \n",
       "2  (（, 單, 支售, 價, ：, 台幣, $, 699, ）, /, （, 2, 支, 組合...  \n",
       "3  (唇釉, 分別, 有, #, 橙香, 蜜茶, 和, #, 豆香, 玫瑰, 兩種, 顏色, ，...  \n",
       "4  (近年, 氣墊, 粉底, 不, 斷, 升級, 改良, ，, 妝效, 可說, 是, 娉美粉, ...  "
      ]
     },
     "execution_count": 11,
     "metadata": {},
     "output_type": "execute_result"
    }
   ],
   "source": [
    "data.head()"
   ]
  },
  {
   "cell_type": "code",
   "execution_count": 13,
   "metadata": {},
   "outputs": [
    {
     "name": "stdout",
     "output_type": "stream",
     "text": [
      "Document Count\n",
      "Tag\n",
      "Fragrance & Body    216\n",
      "Hair                245\n",
      "Make-up             597\n",
      "Nails                 4\n",
      "Skincare            606\n",
      "Name: Text, dtype: int64\n"
     ]
    }
   ],
   "source": [
    "print(\"Document Count\")\n",
    "print(data.groupby('Tag')['Text'].count())"
   ]
  },
  {
   "cell_type": "code",
   "execution_count": 14,
   "metadata": {},
   "outputs": [
    {
     "name": "stdout",
     "output_type": "stream",
     "text": [
      "Word Count\n",
      "Tag\n",
      "Fragrance & Body     696\n",
      "Hair                 482\n",
      "Make-up             1567\n",
      "Nails                  4\n",
      "Skincare            1445\n",
      "dtype: int64\n"
     ]
    }
   ],
   "source": [
    "print(\"Word Count\")\n",
    "print(data.groupby('Tag').apply(lambda x: x.Text.apply(lambda x: len(x.split())).sum()))"
   ]
  },
  {
   "cell_type": "code",
   "execution_count": 12,
   "metadata": {},
   "outputs": [],
   "source": [
    "corpus = st.CorpusFromPandas(data,\n",
    "                             category_col='Tag',\n",
    "                             text_col='Text',\n",
    "                             nlp=nlp).build()"
   ]
  },
  {
   "cell_type": "code",
   "execution_count": 15,
   "metadata": {},
   "outputs": [
    {
     "data": {
      "text/html": [
       "\n",
       "        <iframe\n",
       "            width=\"1200\"\n",
       "            height=\"700\"\n",
       "            src=\"python_output/Test1.html\"\n",
       "            frameborder=\"0\"\n",
       "            allowfullscreen\n",
       "        ></iframe>\n",
       "        "
      ],
      "text/plain": [
       "<IPython.lib.display.IFrame at 0x118b09f60>"
      ]
     },
     "execution_count": 15,
     "metadata": {},
     "output_type": "execute_result"
    }
   ],
   "source": [
    "html = produce_scattertext_explorer(corpus,\n",
    "                                    category='Make-up',\n",
    "                                    category_name='Democratic',\n",
    "                                    not_category_name='Republican',\n",
    "                                    width_in_pixels=1000,\n",
    "                                    minimum_term_frequency=5,\n",
    "                                    transform=st.Scalers.scale,\n",
    "                                    metadata=data['Title'])\n",
    "file_name = 'python_output/Test1.html'\n",
    "open(file_name, 'wb').write(html.encode('utf-8'))\n",
    "IFrame(src=file_name, width = 1200, height=700)"
   ]
  },
  {
   "cell_type": "code",
   "execution_count": 24,
   "metadata": {},
   "outputs": [
    {
     "data": {
      "text/html": [
       "\n",
       "        <iframe\n",
       "            width=\"1200\"\n",
       "            height=\"700\"\n",
       "            src=\"python_output/Test2.html\"\n",
       "            frameborder=\"0\"\n",
       "            allowfullscreen\n",
       "        ></iframe>\n",
       "        "
      ],
      "text/plain": [
       "<IPython.lib.display.IFrame at 0x118b11080>"
      ]
     },
     "execution_count": 24,
     "metadata": {},
     "output_type": "execute_result"
    }
   ],
   "source": [
    "html = st.produce_scattertext_explorer(corpus,\n",
    "                                       category='Hair',\n",
    "                                       category_name='Hair',\n",
    "                                       not_category_name='Other',\n",
    "                                       minimum_term_frequency=5,\n",
    "                                       width_in_pixels=1000,\n",
    "                                       transform=st.Scalers.log_scale_standardize)\n",
    "file_name = 'python_output/Test2.html'\n",
    "open(file_name, 'wb').write(html.encode('utf-8'))\n",
    "IFrame(src=file_name, width = 1200, height=700)"
   ]
  },
  {
   "cell_type": "code",
   "execution_count": 25,
   "metadata": {},
   "outputs": [
    {
     "data": {
      "text/html": [
       "\n",
       "        <iframe\n",
       "            width=\"1200\"\n",
       "            height=\"700\"\n",
       "            src=\"python_output/Test2.html\"\n",
       "            frameborder=\"0\"\n",
       "            allowfullscreen\n",
       "        ></iframe>\n",
       "        "
      ],
      "text/plain": [
       "<IPython.lib.display.IFrame at 0x10d4f1e48>"
      ]
     },
     "execution_count": 25,
     "metadata": {},
     "output_type": "execute_result"
    }
   ],
   "source": [
    "html = st.produce_scattertext_explorer(corpus,\n",
    "                                       category='Make-up',\n",
    "                                       category_name='Make up',\n",
    "                                       not_category_name='Other',\n",
    "                                       minimum_term_frequency=5,\n",
    "                                       width_in_pixels=1000,\n",
    "                                       transform=st.Scalers.log_scale_standardize)\n",
    "file_name = 'python_output/Test2.html'\n",
    "open(file_name, 'wb').write(html.encode('utf-8'))\n",
    "IFrame(src=file_name, width = 1200, height=700)"
   ]
  },
  {
   "cell_type": "code",
   "execution_count": 21,
   "metadata": {},
   "outputs": [
    {
     "data": {
      "text/html": [
       "\n",
       "        <iframe\n",
       "            width=\"1200\"\n",
       "            height=\"700\"\n",
       "            src=\"python_output/Test3.html\"\n",
       "            frameborder=\"0\"\n",
       "            allowfullscreen\n",
       "        ></iframe>\n",
       "        "
      ],
      "text/plain": [
       "<IPython.lib.display.IFrame at 0x1a30772da0>"
      ]
     },
     "execution_count": 21,
     "metadata": {},
     "output_type": "execute_result"
    }
   ],
   "source": [
    "html = produce_scattertext_explorer(corpus,\n",
    "                                    category='Hair',\n",
    "                                    category_name='Democratic',\n",
    "                                    not_category_name='Republican',\n",
    "                                    width_in_pixels=1000,\n",
    "                                    minimum_term_frequency=5,\n",
    "                                    transform=st.Scalers.percentile,\n",
    "                                    metadata=data['Title'])\n",
    "file_name = 'python_output/Test3.html'\n",
    "open(file_name, 'wb').write(html.encode('utf-8'))\n",
    "IFrame(src=file_name, width = 1200, height=700)"
   ]
  },
  {
   "cell_type": "code",
   "execution_count": null,
   "metadata": {},
   "outputs": [],
   "source": []
  }
 ],
 "metadata": {
  "kernelspec": {
   "display_name": "Python 3",
   "language": "python",
   "name": "python3"
  },
  "language_info": {
   "codemirror_mode": {
    "name": "ipython",
    "version": 3
   },
   "file_extension": ".py",
   "mimetype": "text/x-python",
   "name": "python",
   "nbconvert_exporter": "python",
   "pygments_lexer": "ipython3",
   "version": "3.6.8"
  }
 },
 "nbformat": 4,
 "nbformat_minor": 2
}
